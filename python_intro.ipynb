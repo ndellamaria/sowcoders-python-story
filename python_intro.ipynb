{
  "nbformat": 4,
  "nbformat_minor": 0,
  "metadata": {
    "colab": {
      "name": "python_intro.ipynb",
      "provenance": [],
      "collapsed_sections": [],
      "mount_file_id": "1VDuZX-8DyT5so3WpdZT8Pto_vuGVj_sS",
      "authorship_tag": "ABX9TyOeiKFY36nDtHIuX9U4mwzJ",
      "include_colab_link": true
    },
    "kernelspec": {
      "name": "python3",
      "display_name": "Python 3"
    }
  },
  "cells": [
    {
      "cell_type": "markdown",
      "metadata": {
        "id": "view-in-github",
        "colab_type": "text"
      },
      "source": [
        "<a href=\"https://colab.research.google.com/github/ndellamaria/sowcoders-python-story/blob/master/python_intro.ipynb\" target=\"_parent\"><img src=\"https://colab.research.google.com/assets/colab-badge.svg\" alt=\"Open In Colab\"/></a>"
      ]
    },
    {
      "cell_type": "code",
      "metadata": {
        "id": "BGVDK7BOB9sn",
        "colab_type": "code",
        "colab": {}
      },
      "source": [
        "import random"
      ],
      "execution_count": 0,
      "outputs": []
    },
    {
      "cell_type": "markdown",
      "metadata": {
        "id": "2Zs72jq8vpBk",
        "colab_type": "text"
      },
      "source": [
        "### Intro to Python with Google Colab!\n",
        "This is a brief intro to the Python programming language -- don't worry if you feel like some concepts went over your head! You are already ahead of the game by just being here. "
      ]
    },
    {
      "cell_type": "markdown",
      "metadata": {
        "id": "v1g8ojJP7AJS",
        "colab_type": "text"
      },
      "source": [
        "We are going to create a story! There will be three phases to our story. \n",
        "\n",
        "1. Create our character\n",
        "2. Go on a journey\n",
        "3. Defeat a villian"
      ]
    },
    {
      "cell_type": "markdown",
      "metadata": {
        "id": "ijt-beiX7c9O",
        "colab_type": "text"
      },
      "source": [
        "A long long time ago, in a village far far away... our heroine set out on a journey. "
      ]
    },
    {
      "cell_type": "markdown",
      "metadata": {
        "id": "BJrGUGLt7Zjj",
        "colab_type": "text"
      },
      "source": [
        "Step 1: Create our Character"
      ]
    },
    {
      "cell_type": "code",
      "metadata": {
        "id": "MU4dNBiR4NoP",
        "colab_type": "code",
        "colab": {}
      },
      "source": [
        "class Person: \n",
        "  def __init__(self):\n",
        "    self.name = 'I need a name!'\n",
        "    self.age = 0\n",
        "    self.hair_color = \"\""
      ],
      "execution_count": 0,
      "outputs": []
    },
    {
      "cell_type": "code",
      "metadata": {
        "id": "k7nTstS66O6U",
        "colab_type": "code",
        "colab": {
          "base_uri": "https://localhost:8080/",
          "height": 33
        },
        "outputId": "87ffb20c-aa59-4d7d-f4e7-93258e5f0cf7"
      },
      "source": [
        "heroine = Person()\n",
        "print(heroine.name)"
      ],
      "execution_count": 85,
      "outputs": [
        {
          "output_type": "stream",
          "text": [
            "I need a name!\n"
          ],
          "name": "stdout"
        }
      ]
    },
    {
      "cell_type": "markdown",
      "metadata": {
        "id": "6Urzz36U-b9u",
        "colab_type": "text"
      },
      "source": [
        "Oh no! We need to give our heroine a name and an age..."
      ]
    },
    {
      "cell_type": "code",
      "metadata": {
        "id": "fWlCH-Ym-g4-",
        "colab_type": "code",
        "colab": {
          "base_uri": "https://localhost:8080/",
          "height": 67
        },
        "outputId": "45e66c46-890b-46bd-ac98-fd802799e749"
      },
      "source": [
        "heroine.name = input(\"What is the name of our heroine? \")\n",
        "heroine.age = input(\"How old is our heroine? \")\n",
        "heroine.hair_color = input(\"What color is her hair? \")"
      ],
      "execution_count": 89,
      "outputs": [
        {
          "output_type": "stream",
          "text": [
            "What is the name of our heroine? louise\n",
            "How old is our heroine? 124\n",
            "What color is her hair? blonde\n"
          ],
          "name": "stdout"
        }
      ]
    },
    {
      "cell_type": "code",
      "metadata": {
        "id": "9LTVkN5P4qNA",
        "colab_type": "code",
        "colab": {
          "base_uri": "https://localhost:8080/",
          "height": 33
        },
        "outputId": "deb3dae7-9fc6-4337-dc77-17822bbf5fa7"
      },
      "source": [
        "print('Hi everyone! My name is ' + heroine.name + ' and I am ' + heroine.age + ' years old!')\n",
        "if heroine.hair_color == \"blone\":\n",
        "  pass\n",
        "elif heroine.hair_color == \"brunette\": \n",
        "  pass\n",
        "elif heroine.hair_color == \"black\": \n",
        "  pass\n",
        "elif heroine.hair_color == \"red\": \n",
        "  pass"
      ],
      "execution_count": 90,
      "outputs": [
        {
          "output_type": "stream",
          "text": [
            "Hi everyone! My name is louise and I am 124 years old!\n"
          ],
          "name": "stdout"
        }
      ]
    },
    {
      "cell_type": "markdown",
      "metadata": {
        "id": "eo0ru-MnJIRu",
        "colab_type": "text"
      },
      "source": [
        "2. Construct our plot"
      ]
    },
    {
      "cell_type": "code",
      "metadata": {
        "id": "gSTQS7b6JK5m",
        "colab_type": "code",
        "colab": {
          "base_uri": "https://localhost:8080/",
          "height": 167
        },
        "outputId": "49647d77-3307-4abe-f57a-4172f85ce694"
      },
      "source": [
        "location1 = input(\"Can I get a location? \")\n",
        "number1 = input(\"Number? \")\n",
        "noun1 = input(\"Noun? \")\n",
        "number2 = input(\"Number? \")\n",
        "verb_ing1 = input(\"Verb ending in -ing? \")\n",
        "emotion = input(\"Emotion? \")\n",
        "verb_ing2 = input(\"Verb ending in -ing? \")\n",
        "adjective1 = input(\"Adjective or describing word? \")\n",
        "animal1 = input(\"Animal? \")\n",
        "\n"
      ],
      "execution_count": 97,
      "outputs": [
        {
          "output_type": "stream",
          "text": [
            "Can I get a location? paris\n",
            "Number? 23\n",
            "Noun? aquarium\n",
            "Number? 23\n",
            "Verb ending in -ing? swimming\n",
            "Emotion? happily\n",
            "Verb ending in -ing? singing\n",
            "Adjective or describing word? goofy\n",
            "Animal? bird\n"
          ],
          "name": "stdout"
        }
      ]
    },
    {
      "cell_type": "code",
      "metadata": {
        "id": "QU5ktqzLMYvE",
        "colab_type": "code",
        "colab": {}
      },
      "source": [
        ""
      ],
      "execution_count": 0,
      "outputs": []
    },
    {
      "cell_type": "markdown",
      "metadata": {
        "id": "_lvJFBrcFPGL",
        "colab_type": "text"
      },
      "source": [
        "Step 3: Defeat the Villian"
      ]
    },
    {
      "cell_type": "code",
      "metadata": {
        "id": "DrLqtR7zEOu1",
        "colab_type": "code",
        "colab": {}
      },
      "source": [
        "def play_rock_paper_scissors(me,enemy):\n",
        "  if me == enemy:\n",
        "    return \"It's a tie! Play again.\"\n",
        "    \n",
        "  if me == \"rock\": \n",
        "    if enemy == \"scissors\": \n",
        "      return \"You win!\"\n",
        "    else:\n",
        "      return \"You lost :(\"\n",
        "  if me == \"scissors\": \n",
        "    if enemy == \"rock\": \n",
        "      return \"You lost :(\"\n",
        "    else:\n",
        "      return \"You win!\"\n",
        "  if me == \"paper\": \n",
        "    if enemy == \"rock\":\n",
        "      return \"You win!\"\n",
        "    else:\n",
        "      return \"You lost :(\"\n",
        "  return \"invalid input\"\n",
        "      "
      ],
      "execution_count": 0,
      "outputs": []
    },
    {
      "cell_type": "code",
      "metadata": {
        "id": "S_Y_UZz-FYIP",
        "colab_type": "code",
        "colab": {
          "base_uri": "https://localhost:8080/",
          "height": 67
        },
        "outputId": "57bbb8fe-7831-4133-cf96-e37ac13e9168"
      },
      "source": [
        "result = \"unknown\"\n",
        "num_games = 0\n",
        "\n",
        "while result != \"You win!\": \n",
        "  num_games+=1\n",
        "  \n",
        "  me = input(\"Rock, paper, or scissors? \")\n",
        "  enemy = random.choice([\"rock\", \"paper\", \"scissors\"])\n",
        "\n",
        "  print(\"The Villian chose: \" + enemy)\n",
        "  result = play_rock_paper_scissors(me,enemy)\n",
        "  print(result)"
      ],
      "execution_count": 93,
      "outputs": [
        {
          "output_type": "stream",
          "text": [
            "Rock, paper, or scissors? paper\n",
            "The Villian chose: rock\n",
            "You win!\n"
          ],
          "name": "stdout"
        }
      ]
    },
    {
      "cell_type": "markdown",
      "metadata": {
        "id": "mrKATAanGpqx",
        "colab_type": "text"
      },
      "source": [
        "## Summary of our story"
      ]
    },
    {
      "cell_type": "code",
      "metadata": {
        "id": "ebprTr_BGpC_",
        "colab_type": "code",
        "colab": {
          "base_uri": "https://localhost:8080/",
          "height": 87
        },
        "outputId": "5a6bf97a-caea-46e9-ff9c-98f26bae9cdb"
      },
      "source": [
        "print(\"Our story began with \" + str(heroine.age) + \" year old \" + heroine.name + \". She had \" + heroine.hair_color + \" hair and was very intelligent. \\n She travelled for \" + str(number1) + \" to the land of \" + location1 + \". There she found \" + str(number2) + \" \" + noun1 + \" \" + verb_ing1 + \". She was quite \" + emotion + \". After witnessing that spectical, \" + heroine.name + \" continued on her way. \\n She was \" + verb_ing2 + \" down the path when suddenly, a \" + adjective1 + \" \" + animal1 + \" jumped in front of her. 'You shall not pass until you beat me at rock paper scissors!' it exclaimed. \" + heroine.name + \" was not afraid and after \" + str(num_games) + \" games of rock, paper, scissors, she bested the \" + animal1 + \".\") \n",
        "      "
      ],
      "execution_count": 98,
      "outputs": [
        {
          "output_type": "stream",
          "text": [
            "Our story began with 124 year old louise. She had blonde hair and was very intelligent. \n",
            " She travelled for 23 to the land of paris. There she found 23 aquarium swimming. She was quite happily. After witnessing that spectical, louise continued on her way. \n",
            " She was singing down the path when suddenly, a goofy bird jumped in front of her. 'You shall not pass until you beat me at rock paper scissors!' it exclaimed. louise was not afraid and after 1 games of rock, paper, scissors, she bested the bird.\n"
          ],
          "name": "stdout"
        }
      ]
    },
    {
      "cell_type": "code",
      "metadata": {
        "id": "A3sPYXamG-2v",
        "colab_type": "code",
        "colab": {}
      },
      "source": [
        ""
      ],
      "execution_count": 0,
      "outputs": []
    }
  ]
}